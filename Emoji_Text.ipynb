{
 "cells": [
  {
   "cell_type": "code",
   "execution_count": 1,
   "id": "cc65721f-4622-4b60-84c4-6d4e153970a2",
   "metadata": {},
   "outputs": [],
   "source": [
    "import demoji"
   ]
  },
  {
   "cell_type": "code",
   "execution_count": 3,
   "id": "d66afa22-ce47-4991-9d0c-0b73863a2c17",
   "metadata": {},
   "outputs": [],
   "source": [
    "text='''I am a data scientist 👩🏻‍💻and I ❤️ 🍨🍰🍫.\n",
    "Also I like 🍔.\n",
    "I play ⚽.\n",
    "Also I like 🧘🏻‍♀️'''"
   ]
  },
  {
   "cell_type": "code",
   "execution_count": 5,
   "id": "450c0898-5fda-4850-afcb-e5a59a75761a",
   "metadata": {},
   "outputs": [
    {
     "data": {
      "text/plain": [
       "{'❤️': 'red heart',\n",
       " '👩🏻\\u200d💻': 'woman technologist: light skin tone',\n",
       " '⚽': 'soccer ball',\n",
       " '🍰': 'shortcake',\n",
       " '🧘🏻\\u200d♀️': 'woman in lotus position: light skin tone',\n",
       " '🍫': 'chocolate bar',\n",
       " '🍔': 'hamburger',\n",
       " '🍨': 'ice cream'}"
      ]
     },
     "execution_count": 5,
     "metadata": {},
     "output_type": "execute_result"
    }
   ],
   "source": [
    "demoji.findall(text)"
   ]
  },
  {
   "cell_type": "code",
   "execution_count": 6,
   "id": "533fe5f2-c137-4e5f-b4af-12d6fb79ad35",
   "metadata": {},
   "outputs": [
    {
     "data": {
      "text/plain": [
       "{'🙊': 'speak-no-evil monkey',\n",
       " '🙈': 'see-no-evil monkey',\n",
       " '🙉': 'hear-no-evil monkey'}"
      ]
     },
     "execution_count": 6,
     "metadata": {},
     "output_type": "execute_result"
    }
   ],
   "source": [
    "text2=\"Mahatma Gandhi said 🙈🙉🙊\"\n",
    "demoji.findall(text2)"
   ]
  },
  {
   "cell_type": "code",
   "execution_count": null,
   "id": "debf1afb-d93c-44cd-94bb-373fe1fa8c56",
   "metadata": {},
   "outputs": [],
   "source": []
  }
 ],
 "metadata": {
  "kernelspec": {
   "display_name": "Python 3 (ipykernel)",
   "language": "python",
   "name": "python3"
  },
  "language_info": {
   "codemirror_mode": {
    "name": "ipython",
    "version": 3
   },
   "file_extension": ".py",
   "mimetype": "text/x-python",
   "name": "python",
   "nbconvert_exporter": "python",
   "pygments_lexer": "ipython3",
   "version": "3.11.7"
  }
 },
 "nbformat": 4,
 "nbformat_minor": 5
}
